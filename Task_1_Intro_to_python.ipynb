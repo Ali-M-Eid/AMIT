{
  "cells": [
    {
      "cell_type": "markdown",
      "metadata": {
        "id": "epnb_dTnsq9h"
      },
      "source": [
        "Convert the string \"hello world\" to uppercase."
      ]
    },
    {
      "cell_type": "code",
      "execution_count": null,
      "metadata": {
        "id": "Pqi8wMwmsmtD"
      },
      "outputs": [],
      "source": [
        "print(\"hello world\".upper())"
      ]
    },
    {
      "cell_type": "markdown",
      "metadata": {
        "id": "JJB6-cLjsvhm"
      },
      "source": [
        "Convert the string \"PYTHON PROGRAMMING\" to lowercase.\n",
        "\n"
      ]
    },
    {
      "cell_type": "code",
      "execution_count": null,
      "metadata": {
        "id": "KmDqAXoPsxHz"
      },
      "outputs": [],
      "source": [
        "print(\"PYTHON PROGRAMMING\".lower())"
      ]
    },
    {
      "cell_type": "markdown",
      "metadata": {
        "id": "zfcD2rH6sxkj"
      },
      "source": [
        "Capitalize the first letter of the string \"machine learning\".\n",
        "\n"
      ]
    },
    {
      "cell_type": "code",
      "execution_count": null,
      "metadata": {
        "id": "RhHWVpz4szJC"
      },
      "outputs": [],
      "source": [
        "print(\"machine learning\".capitalize())"
      ]
    },
    {
      "cell_type": "markdown",
      "metadata": {
        "id": "I2CkcwDus0oB"
      },
      "source": [
        "Convert the string \"data science\" to title case.\n",
        "\n"
      ]
    },
    {
      "cell_type": "code",
      "execution_count": null,
      "metadata": {
        "id": "ZcFCR4exs1Aa"
      },
      "outputs": [],
      "source": [
        "print(\"machine learning\".title())"
      ]
    },
    {
      "cell_type": "markdown",
      "metadata": {
        "id": "2uraBGHts1jn"
      },
      "source": [
        "Replace all occurrences of \"a\" with \"@\" in the string \"banana\".\n",
        "\n"
      ]
    },
    {
      "cell_type": "code",
      "execution_count": null,
      "metadata": {
        "id": "knADx4g5s3DG"
      },
      "outputs": [],
      "source": [
        "print(\"banana\".replace(\"a\",\"@\"))"
      ]
    },
    {
      "cell_type": "markdown",
      "metadata": {
        "id": "QGqI2L7Ss3fg"
      },
      "source": [
        "Check if the string \"hello.py\" ends with \".py\".\n",
        "\n"
      ]
    },
    {
      "cell_type": "code",
      "execution_count": null,
      "metadata": {
        "id": "9qeo3LOus5xE"
      },
      "outputs": [],
      "source": [
        "print(\"hello.py\".endswith(\".py\"))"
      ]
    },
    {
      "cell_type": "markdown",
      "metadata": {
        "id": "QZIoTWBNs6My"
      },
      "source": [
        "Check if the string \"start now\" starts with \"start\".\n",
        "\n"
      ]
    },
    {
      "cell_type": "code",
      "execution_count": null,
      "metadata": {
        "id": "tgt9LOSws7-D"
      },
      "outputs": [],
      "source": [
        "print(\"hello py\".startswith(\"hello\"))"
      ]
    },
    {
      "cell_type": "markdown",
      "metadata": {
        "id": "fGnvOFDYs8Z9"
      },
      "source": [
        "Join the list [\"Python\", \"is\", \"fun\"] into a single string separated by spaces.\n",
        "\n"
      ]
    },
    {
      "cell_type": "code",
      "execution_count": null,
      "metadata": {
        "id": "Mwb1aWars9eo"
      },
      "outputs": [],
      "source": [
        "ali = [\"Python\", \"is\", \"fun\"]\n",
        "a = (' '.join(ali))\n",
        "print(a)"
      ]
    },
    {
      "cell_type": "markdown",
      "metadata": {
        "id": "ukvLAP5rs98-"
      },
      "source": [
        "Split the string \"apple,banana,cherry\" into a list of fruits.\n",
        "\n"
      ]
    },
    {
      "cell_type": "code",
      "execution_count": null,
      "metadata": {
        "id": "hQ5jwlPvtC74"
      },
      "outputs": [],
      "source": [
        "print(\"apple,banana,cherry\".split(\",\"))"
      ]
    },
    {
      "cell_type": "markdown",
      "metadata": {
        "id": "jhBYBhyqtGvq"
      },
      "source": [
        "Extract the substring \"world\" from the string \"hello world\" using slicing.\n",
        "\n"
      ]
    },
    {
      "cell_type": "code",
      "execution_count": null,
      "metadata": {
        "id": "bAEjIlpStHP-"
      },
      "outputs": [],
      "source": [
        "n = \"hello world\"\n",
        "print(n[6:])"
      ]
    },
    {
      "cell_type": "markdown",
      "metadata": {
        "id": "vNKPS-HDtIlQ"
      },
      "source": [
        "Get the first 5 characters of the string \"DataScience\".\n",
        "\n"
      ]
    },
    {
      "cell_type": "code",
      "execution_count": null,
      "metadata": {
        "id": "JWaQF-mztJHm"
      },
      "outputs": [],
      "source": [
        "n = \"DataScience\"\n",
        "print(n[-11:-6])"
      ]
    },
    {
      "cell_type": "markdown",
      "metadata": {
        "id": "4IvDBSUCtJhv"
      },
      "source": [
        "Retrieve the last 3 characters of the string \"Programming\".\n",
        "\n"
      ]
    },
    {
      "cell_type": "code",
      "execution_count": null,
      "metadata": {
        "id": "DlDMq434tLnW"
      },
      "outputs": [],
      "source": [
        "n = \"Programming\"\n",
        "print(-1:-4)"
      ]
    },
    {
      "cell_type": "markdown",
      "metadata": {
        "id": "8vOA5UUGtMO1"
      },
      "source": [
        "Reverse the string \"Python\" using slicing.\n",
        "\n"
      ]
    },
    {
      "cell_type": "code",
      "execution_count": null,
      "metadata": {
        "id": "nHd2IxLEtNw3"
      },
      "outputs": [],
      "source": [
        "n = \"Python\"\n",
        "print(n[::-1])"
      ]
    },
    {
      "cell_type": "markdown",
      "metadata": {
        "id": "wmT-DQZjtPfC"
      },
      "source": [
        "Extract every second character from the string \"abcdefg\".\n",
        "\n"
      ]
    },
    {
      "cell_type": "code",
      "execution_count": null,
      "metadata": {
        "id": "7kDbySMftQF_"
      },
      "outputs": [],
      "source": [
        "n = \"abcdefg\"\n",
        "print(n[::2])"
      ]
    },
    {
      "cell_type": "markdown",
      "metadata": {
        "id": "hnb1Xo66tRQ6"
      },
      "source": [
        "Use slicing to get \"thon\" from the string \"Pythonist\".\n",
        "\n"
      ]
    },
    {
      "cell_type": "code",
      "execution_count": null,
      "metadata": {
        "id": "DeUrSSDNtRv3"
      },
      "outputs": [],
      "source": [
        "n = \"Pythonist\"\n",
        "print(n[3:7])"
      ]
    },
    {
      "cell_type": "markdown",
      "metadata": {
        "id": "HCkalqoVtTNx"
      },
      "source": [
        "Replace the word \"bad\" with \"good\" in the string \"This is a bad example\".\n",
        "\n"
      ]
    },
    {
      "cell_type": "code",
      "execution_count": null,
      "metadata": {
        "id": "q_k5nOz_tToc"
      },
      "outputs": [],
      "source": [
        "n = \"this is a bad example\"\n",
        "print(n.replace(\"bad\",\"good\"))"
      ]
    },
    {
      "cell_type": "markdown",
      "metadata": {
        "id": "EphQFpK3tUDY"
      },
      "source": [
        "Check if the string \"2021_report.pdf\" ends with \".doc\".\n",
        "\n"
      ]
    },
    {
      "cell_type": "code",
      "execution_count": null,
      "metadata": {
        "id": "JaxUek-7tVdJ"
      },
      "outputs": [],
      "source": [
        "n = \"2021_report.pdf\"\n",
        "print(n.endswith(\"doc\"))"
      ]
    },
    {
      "cell_type": "markdown",
      "metadata": {
        "id": "xCUiActztW7T"
      },
      "source": [
        "Convert the string \"hELLo WOrLD\" to swap case.\n",
        "\n"
      ]
    },
    {
      "cell_type": "code",
      "execution_count": null,
      "metadata": {
        "id": "Raa5TudTtXeF"
      },
      "outputs": [],
      "source": [
        "print(\"hELLo WOrLD\".swapcase())"
      ]
    },
    {
      "cell_type": "markdown",
      "metadata": {
        "id": "e24s1ML5tZwV"
      },
      "source": [
        "Count the number of times \"a\" appears in the string \"banana\".\n",
        "\n"
      ]
    },
    {
      "cell_type": "code",
      "execution_count": null,
      "metadata": {
        "id": "HDjZGYDGtaQD"
      },
      "outputs": [],
      "source": [
        "print(\"banana\".count(\"a\"))"
      ]
    },
    {
      "cell_type": "markdown",
      "metadata": {
        "id": "tOswcWp3tb2b"
      },
      "source": [
        "Find the index of the first occurrence of \"n\" in the string \"environment\".\n",
        "\n"
      ]
    },
    {
      "cell_type": "code",
      "execution_count": null,
      "metadata": {
        "id": "Hc08sMQUtcUZ"
      },
      "outputs": [],
      "source": [
        "print(\"environment\".index(\"n\"))"
      ]
    },
    {
      "cell_type": "markdown",
      "metadata": {
        "id": "6NqrmhoKtd5C"
      },
      "source": [
        "Split the string \"one-two-three\" into a list using \"-\" as the separator.\n",
        "\n"
      ]
    },
    {
      "cell_type": "code",
      "execution_count": null,
      "metadata": {
        "id": "Y1uoGezJteSS"
      },
      "outputs": [],
      "source": [
        "print(\"one-two-three\".split(\"\"))"
      ]
    },
    {
      "cell_type": "markdown",
      "metadata": {
        "id": "yDBqgW93tf3e"
      },
      "source": [
        "Using slicing, obtain \"gram\" from the string \"Programming\".\n",
        "\n"
      ]
    },
    {
      "cell_type": "code",
      "execution_count": null,
      "metadata": {
        "id": "tRvaZs6stoCC"
      },
      "outputs": [],
      "source": [
        "print(\"programming\"[3:7])"
      ]
    },
    {
      "cell_type": "markdown",
      "metadata": {},
      "source": [
        "Create a Python script to display personalized information. Utilize variables to store the user's name, \n",
        "age, and the name of the course they are learning. Dynamically generate a message that includes this \n",
        "information and print the result. Ensure clarity in your code implementation without relying on user \n",
        "input.\n",
        "\n",
        "Expected Output:\n",
        "My name is {your_name}, and I am {your_age} years old. I am engaged in learning {course_name}.\n"
      ]
    },
    {
      "cell_type": "code",
      "execution_count": null,
      "metadata": {},
      "outputs": [],
      "source": [
        "my_name = \"Ali\"\n",
        "my_age = 19\n",
        "course_name = \"Ai & machine learning diploma\"\n",
        "print(f\"MY name is {my_name}, and i am {my_age} years old. i am engaged in learning {course_name}\")\n",
        "print(\"MY name is {}, and i am {} years old. i am engaged in learning {}\".format(my_name,my_age,course_name))"
      ]
    }
  ],
  "metadata": {
    "colab": {
      "provenance": []
    },
    "kernelspec": {
      "display_name": "Python 3",
      "name": "python3"
    },
    "language_info": {
      "name": "python"
    }
  },
  "nbformat": 4,
  "nbformat_minor": 0
}
