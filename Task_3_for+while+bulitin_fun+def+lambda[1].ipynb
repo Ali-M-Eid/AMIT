{
  "cells": [
    {
      "cell_type": "markdown",
      "metadata": {
        "id": "dfX5NL4iuMhK"
      },
      "source": [
        "#For Loop Questions:\n",
        "Q1: Write a for loop to print numbers from 1 to 5."
      ]
    },
    {
      "cell_type": "code",
      "execution_count": 3,
      "metadata": {
        "id": "0iREeVAxuLxm"
      },
      "outputs": [
        {
          "name": "stdout",
          "output_type": "stream",
          "text": [
            "1\n",
            "2\n",
            "3\n",
            "4\n",
            "5\n"
          ]
        }
      ],
      "source": [
        "for i in range(1,6):\n",
        "    print(i)"
      ]
    },
    {
      "cell_type": "markdown",
      "metadata": {
        "id": "JQJczoXMuQKC"
      },
      "source": [
        "Q2: Write a for loop to print each character in the string \"Python\"."
      ]
    },
    {
      "cell_type": "code",
      "execution_count": 5,
      "metadata": {
        "id": "F3wJe7y2uTKX"
      },
      "outputs": [
        {
          "name": "stdout",
          "output_type": "stream",
          "text": [
            "P\n",
            "y\n",
            "t\n",
            "h\n",
            "o\n",
            "n\n"
          ]
        }
      ],
      "source": [
        "for i in (\"Python\"):\n",
        "    print(i)"
      ]
    },
    {
      "cell_type": "markdown",
      "metadata": {
        "id": "VZGvtNpHuTwl"
      },
      "source": [
        "Q3: Write a for loop to print all even numbers between 1 and 10."
      ]
    },
    {
      "cell_type": "code",
      "execution_count": 12,
      "metadata": {},
      "outputs": [
        {
          "name": "stdout",
          "output_type": "stream",
          "text": [
            "0\n",
            "2\n",
            "4\n",
            "6\n",
            "8\n",
            "10\n"
          ]
        }
      ],
      "source": [
        "for i in range(0,11):\n",
        "    if i%2 == 0:\n",
        "        print(i)\n"
      ]
    },
    {
      "cell_type": "code",
      "execution_count": 10,
      "metadata": {
        "id": "vuv6NmhcuV0a"
      },
      "outputs": [
        {
          "name": "stdout",
          "output_type": "stream",
          "text": [
            "0\n",
            "2\n",
            "4\n",
            "6\n",
            "8\n",
            "10\n"
          ]
        }
      ],
      "source": [
        "for i in range(0,11,2):\n",
        "    print(i)"
      ]
    },
    {
      "cell_type": "markdown",
      "metadata": {
        "id": "Bc8m3BSQuWea"
      },
      "source": [
        "Q4: Write a for loop to sum the elements in the list [1, 2, 3, 4, 5]."
      ]
    },
    {
      "cell_type": "code",
      "execution_count": 24,
      "metadata": {
        "id": "Q1KbDETNuYXB"
      },
      "outputs": [
        {
          "name": "stdout",
          "output_type": "stream",
          "text": [
            "5\n"
          ]
        }
      ],
      "source": [
        "l = [1,2,3,4,5]\n",
        "sum = 0\n",
        "for i in l:\n",
        "    sum+=i\n",
        "print(i)"
      ]
    },
    {
      "cell_type": "markdown",
      "metadata": {
        "id": "BUb3MBmUuZW3"
      },
      "source": [
        "Q5: Write a for loop to print the elements of a list in reverse order."
      ]
    },
    {
      "cell_type": "code",
      "execution_count": 37,
      "metadata": {},
      "outputs": [
        {
          "name": "stdout",
          "output_type": "stream",
          "text": [
            "5\n",
            "4\n",
            "3\n",
            "2\n",
            "1\n"
          ]
        }
      ],
      "source": [
        "my_list = [1, 2, 3, 4, 5]\n",
        "\n",
        "for i in range(len(my_list) - 1, -1, -1):\n",
        "    print(my_list[i])\n"
      ]
    },
    {
      "cell_type": "code",
      "execution_count": 31,
      "metadata": {
        "id": "2lG6VWafubF_"
      },
      "outputs": [
        {
          "name": "stdout",
          "output_type": "stream",
          "text": [
            "5\n",
            "4\n",
            "3\n",
            "2\n",
            "1\n"
          ]
        }
      ],
      "source": [
        "l = [1,2,3,4,5]\n",
        "for i in l[::-1]:\n",
        "   print(i) \n"
      ]
    },
    {
      "cell_type": "markdown",
      "metadata": {
        "id": "bUfvq0RRuf-k"
      },
      "source": [
        "Q6: Write a for loop to print only positive numbers from the list [-1, 2, -3, 4, -5]."
      ]
    },
    {
      "cell_type": "code",
      "execution_count": 39,
      "metadata": {
        "id": "fG_UCwxnugd7"
      },
      "outputs": [
        {
          "name": "stdout",
          "output_type": "stream",
          "text": [
            "2\n",
            "4\n"
          ]
        }
      ],
      "source": [
        "l = [-1,2,-3,4,-5]\n",
        "for i in l:\n",
        "    if i > 0:\n",
        "      print(i)"
      ]
    },
    {
      "cell_type": "markdown",
      "metadata": {
        "id": "G5axq_usui5x"
      },
      "source": [
        "Q7: Write a for loop to multiply each element of a list by 2."
      ]
    },
    {
      "cell_type": "code",
      "execution_count": 41,
      "metadata": {
        "id": "bTxgkjGMujSt"
      },
      "outputs": [
        {
          "name": "stdout",
          "output_type": "stream",
          "text": [
            "2\n",
            "4\n",
            "6\n",
            "8\n",
            "10\n"
          ]
        }
      ],
      "source": [
        "l = [1,2,3,4,5]\n",
        "for i in l:\n",
        "    i*=2\n",
        "    print(i)"
      ]
    },
    {
      "cell_type": "markdown",
      "metadata": {
        "id": "3bgv8dRFulSD"
      },
      "source": [
        "Q8: Write a for loop to find the minimum value in a list."
      ]
    },
    {
      "cell_type": "code",
      "execution_count": 43,
      "metadata": {
        "id": "YAZkgqcquliM"
      },
      "outputs": [
        {
          "name": "stdout",
          "output_type": "stream",
          "text": [
            "the minimum num is:1\n"
          ]
        }
      ],
      "source": [
        "l = [1,2,3,4,5]\n",
        "for i in l:\n",
        "    if i == min(l):\n",
        "        print(f\"the minimum num is:{i}\")"
      ]
    },
    {
      "cell_type": "markdown",
      "metadata": {
        "id": "awb61YJFuoFT"
      },
      "source": [
        "Q9: Write a for loop to print all odd numbers from 1 to 10."
      ]
    },
    {
      "cell_type": "code",
      "execution_count": 44,
      "metadata": {
        "id": "p70DRAlNup4V"
      },
      "outputs": [
        {
          "name": "stdout",
          "output_type": "stream",
          "text": [
            "1\n",
            "3\n",
            "5\n",
            "7\n",
            "9\n"
          ]
        }
      ],
      "source": [
        "for i in range(0,11):\n",
        "    if i % 2 != 0:\n",
        "        print(i)"
      ]
    },
    {
      "cell_type": "markdown",
      "metadata": {
        "id": "CxQId4QMurNU"
      },
      "source": [
        "Q10: Write a for loop to concatenate the elements of a list into a single string."
      ]
    },
    {
      "cell_type": "code",
      "execution_count": 50,
      "metadata": {
        "id": "KuRuYZ_0utqF"
      },
      "outputs": [
        {
          "name": "stdout",
          "output_type": "stream",
          "text": [
            "ali.mohamed\n"
          ]
        }
      ],
      "source": [
        "l = [\"ali\",\".\",\"mo\",\"ha\",\"med\"]\n",
        "sum=\"\"\n",
        "for i in l:\n",
        "    sum+=i\n",
        "print(sum)"
      ]
    },
    {
      "cell_type": "markdown",
      "metadata": {
        "id": "oogaNcJHuwR_"
      },
      "source": [
        "#While Loop Questions:\n",
        "Q11: Write a while loop to print numbers from 1 to 5."
      ]
    },
    {
      "cell_type": "code",
      "execution_count": 1,
      "metadata": {
        "id": "D6Er3dYEuwkL"
      },
      "outputs": [
        {
          "name": "stdout",
          "output_type": "stream",
          "text": [
            "1\n",
            "2\n",
            "3\n",
            "4\n",
            "5\n"
          ]
        }
      ],
      "source": [
        "i=1\n",
        "while i <= 5:\n",
        "    print(i)\n",
        "    i+=1"
      ]
    },
    {
      "cell_type": "markdown",
      "metadata": {
        "id": "tZY0g3YvuzSY"
      },
      "source": [
        "Q12: Write a while loop to print the elements of a list.\n",
        "fruits = ['apple', 'banana', 'cherry']"
      ]
    },
    {
      "cell_type": "code",
      "execution_count": 2,
      "metadata": {
        "id": "yBVVsiktu1bJ"
      },
      "outputs": [
        {
          "name": "stdout",
          "output_type": "stream",
          "text": [
            "apple\n",
            "banana\n",
            "cherry\n"
          ]
        }
      ],
      "source": [
        "fruits = ['apple', 'banana', 'cherry']\n",
        "i=0\n",
        "while i < len(fruits) :\n",
        "    print(fruits[i])\n",
        "    i+=1\n"
      ]
    },
    {
      "cell_type": "markdown",
      "metadata": {
        "id": "xFBWjepDu4PK"
      },
      "source": [
        "Q13: Write a while loop to find the factorial of a number."
      ]
    },
    {
      "cell_type": "code",
      "execution_count": 11,
      "metadata": {
        "id": "fKra1qVhu4e9"
      },
      "outputs": [
        {
          "name": "stdout",
          "output_type": "stream",
          "text": [
            "120\n"
          ]
        }
      ],
      "source": [
        "sum = 1\n",
        "i = 1\n",
        "while i <= 5:\n",
        "    sum*=i\n",
        "    i+=1\n",
        "print(sum)"
      ]
    },
    {
      "cell_type": "markdown",
      "metadata": {
        "id": "qKNzECoJu87X"
      },
      "source": [
        "Q14: Write a while loop to print the sum of the first 10 natural numbers.\n",
        "\n"
      ]
    },
    {
      "cell_type": "code",
      "execution_count": 17,
      "metadata": {
        "id": "evA3ekJyu9Vj"
      },
      "outputs": [
        {
          "name": "stdout",
          "output_type": "stream",
          "text": [
            "1\n",
            "2\n",
            "3\n",
            "4\n",
            "5\n",
            "6\n",
            "7\n",
            "8\n",
            "9\n",
            "10\n"
          ]
        }
      ],
      "source": [
        "i=1\n",
        "while i <= 10:\n",
        "    print(i)\n",
        "    i+=1"
      ]
    },
    {
      "cell_type": "markdown",
      "metadata": {
        "id": "emvNPH4Nu-At"
      },
      "source": [
        "Q15: Write a while loop to reverse a string.\n",
        "\n"
      ]
    },
    {
      "cell_type": "code",
      "execution_count": 49,
      "metadata": {
        "id": "h4gFUZbyvAKc"
      },
      "outputs": [
        {
          "name": "stdout",
          "output_type": "stream",
          "text": [
            "nohtyp\n"
          ]
        }
      ],
      "source": [
        "my_string = \"python\"\n",
        "sum=\"\"\n",
        "i = len(my_string)-1\n",
        "while i >= 0 :\n",
        "    sum+=my_string[i]\n",
        "    i-=1\n",
        "print(sum)\n"
      ]
    },
    {
      "cell_type": "markdown",
      "metadata": {
        "id": "Cx1rWEdAvBIA"
      },
      "source": [
        "Q16: Write a while loop to print all even numbers between 1 and 10.\n",
        "\n"
      ]
    },
    {
      "cell_type": "code",
      "execution_count": 55,
      "metadata": {
        "id": "RuGxIVn3vC9J"
      },
      "outputs": [
        {
          "name": "stdout",
          "output_type": "stream",
          "text": [
            "2\n",
            "4\n",
            "6\n",
            "8\n",
            "10\n"
          ]
        }
      ],
      "source": [
        "i=1\n",
        "while i <= 10:\n",
        "    if i % 2 == 0:\n",
        "        print(i)\n",
        "    i+=1"
      ]
    },
    {
      "cell_type": "markdown",
      "metadata": {
        "id": "_t7-Dm0zvFzm"
      },
      "source": [
        "Q17: Write a while loop to print the digits of a number in reverse order.\n",
        "\n"
      ]
    },
    {
      "cell_type": "code",
      "execution_count": 61,
      "metadata": {
        "id": "g851VTKEvGHB"
      },
      "outputs": [
        {
          "name": "stdout",
          "output_type": "stream",
          "text": [
            "54821"
          ]
        }
      ],
      "source": [
        "number = 12845\n",
        "while number > 0:\n",
        "    digit = number%10\n",
        "    print(digit,end=\"\")\n",
        "    number= number//10\n",
        "\n"
      ]
    },
    {
      "cell_type": "markdown",
      "metadata": {
        "id": "wNEE2pGyvWfh"
      },
      "source": [
        "Bonus\n",
        "Q18: Write a while loop to print the first 10 Fibonacci numbers.\n",
        "\n"
      ]
    },
    {
      "cell_type": "code",
      "execution_count": 69,
      "metadata": {
        "id": "Me6KGmlEve1d"
      },
      "outputs": [
        {
          "name": "stdout",
          "output_type": "stream",
          "text": [
            "0\n",
            "1\n",
            "1\n",
            "2\n",
            "3\n",
            "5\n",
            "8\n",
            "13\n",
            "21\n",
            "34\n"
          ]
        }
      ],
      "source": [
        "a,b=0,1\n",
        "i=0\n",
        "while i<10:\n",
        "  print(a)\n",
        "  a,b=b,a+b\n",
        "  i+=1"
      ]
    },
    {
      "cell_type": "markdown",
      "metadata": {
        "id": "ZPukfc2RvPdG"
      },
      "source": [
        "Q19: Write a while loop that stops when a negative number is entered by the user.\n",
        "\n"
      ]
    },
    {
      "cell_type": "code",
      "execution_count": 76,
      "metadata": {
        "id": "IS1XxDH7vTXB"
      },
      "outputs": [],
      "source": [
        "while True:\n",
        "    i = int(input(\"enetr a positive number:\"))\n",
        "    if i > 0:\n",
        "        print(\"positive\")\n",
        "    elif i == 0:\n",
        "        print(\"its zero\")\n",
        "    else:\n",
        "        print(\"its a negative\")\n",
        "        break"
      ]
    },
    {
      "cell_type": "markdown",
      "metadata": {
        "id": "OAe3rGijv080"
      },
      "source": [
        "Bonus Q20: Write a while loop to print the multiplication table of 5."
      ]
    },
    {
      "cell_type": "code",
      "execution_count": 9,
      "metadata": {
        "id": "YbNztGZvv0M1"
      },
      "outputs": [
        {
          "name": "stdout",
          "output_type": "stream",
          "text": [
            "5\n",
            "10\n",
            "15\n",
            "20\n",
            "25\n",
            "30\n",
            "35\n",
            "40\n",
            "45\n",
            "50\n"
          ]
        }
      ],
      "source": [
        "i=1\n",
        "sum = 5\n",
        "while i <= 10:\n",
        "    result = sum * i\n",
        "    print(result)\n",
        "    i+=1"
      ]
    },
    {
      "cell_type": "markdown",
      "metadata": {
        "id": "nJBg8USHv-k7"
      },
      "source": [
        "#Built-in Functions Questions:\n",
        "Q21: Use len() to find the length of the list [1, 2, 3, 4, 5]."
      ]
    },
    {
      "cell_type": "code",
      "execution_count": 11,
      "metadata": {
        "id": "bDtrXF7fwJZ4"
      },
      "outputs": [
        {
          "name": "stdout",
          "output_type": "stream",
          "text": [
            "5\n"
          ]
        }
      ],
      "source": [
        "l = [1,2,3,4,5]\n",
        "print(len(l))"
      ]
    },
    {
      "cell_type": "markdown",
      "metadata": {
        "id": "RDHlCkJ0wMKQ"
      },
      "source": [
        "Q22: Use max() to find the largest number in the list [10, 20, 30, 40]."
      ]
    },
    {
      "cell_type": "code",
      "execution_count": 12,
      "metadata": {
        "id": "_SNjFOqIwMZ_"
      },
      "outputs": [
        {
          "name": "stdout",
          "output_type": "stream",
          "text": [
            "40\n"
          ]
        }
      ],
      "source": [
        "l=[10,20,30,40]\n",
        "print(max(l))"
      ]
    },
    {
      "cell_type": "markdown",
      "metadata": {
        "id": "FKHEfDjXwOnn"
      },
      "source": [
        "\n",
        "Q23: Use min() to find the smallest number in the list [8, 3, 15, 6]."
      ]
    },
    {
      "cell_type": "code",
      "execution_count": 14,
      "metadata": {
        "id": "c2Fn0Uo6wO_x"
      },
      "outputs": [
        {
          "name": "stdout",
          "output_type": "stream",
          "text": [
            "3\n"
          ]
        }
      ],
      "source": [
        "l=[8,3,15,6]\n",
        "print(min(l))"
      ]
    },
    {
      "cell_type": "markdown",
      "metadata": {
        "id": "FEb4Oq4wwRQw"
      },
      "source": [
        "Q24: Use sum() to calculate the total of the list [2, 4, 6, 8]."
      ]
    },
    {
      "cell_type": "code",
      "execution_count": null,
      "metadata": {
        "id": "vZSupHfawRrZ"
      },
      "outputs": [],
      "source": [
        "l = [2,4,6,8]\n",
        "print(sum(l))"
      ]
    },
    {
      "cell_type": "markdown",
      "metadata": {
        "id": "h1W3jOj8wT9f"
      },
      "source": [
        "Q25: Use sorted() to sort the list [5, 1, 4, 2, 3]."
      ]
    },
    {
      "cell_type": "code",
      "execution_count": 26,
      "metadata": {
        "id": "MFqIMH2dwUU1"
      },
      "outputs": [
        {
          "name": "stdout",
          "output_type": "stream",
          "text": [
            "[1, 2, 3, 4, 5]\n"
          ]
        }
      ],
      "source": [
        "l=[5,1,4,2,3]\n",
        "print(sorted(l))"
      ]
    },
    {
      "cell_type": "markdown",
      "metadata": {
        "id": "LGOYeryJwW7-"
      },
      "source": [
        "Q26: Use abs() to find the absolute value of -10."
      ]
    },
    {
      "cell_type": "code",
      "execution_count": 27,
      "metadata": {
        "id": "5lHi5hXgwXeu"
      },
      "outputs": [
        {
          "name": "stdout",
          "output_type": "stream",
          "text": [
            "10\n"
          ]
        }
      ],
      "source": [
        "print(abs(-10))"
      ]
    },
    {
      "cell_type": "markdown",
      "metadata": {
        "id": "h7wltbUXwba2"
      },
      "source": [
        "new Q30: Use map() to apply the str.upper function to all elements in the list ['a', 'b', 'c']."
      ]
    },
    {
      "cell_type": "code",
      "execution_count": 32,
      "metadata": {},
      "outputs": [
        {
          "name": "stdout",
          "output_type": "stream",
          "text": [
            "['A', 'B', 'C']\n"
          ]
        }
      ],
      "source": [
        "l = [\"a\",\"b\",\"c\"]\n",
        "print(list(map(str.upper,l)))"
      ]
    },
    {
      "cell_type": "markdown",
      "metadata": {
        "id": "jh9Wz36hwfjL"
      },
      "source": [
        "#Def Function Questions:\n",
        "Q31: Define a function greet() that prints \"Hello, World!\"."
      ]
    },
    {
      "cell_type": "code",
      "execution_count": 43,
      "metadata": {
        "id": "87rrEkzfwfvR"
      },
      "outputs": [
        {
          "name": "stdout",
          "output_type": "stream",
          "text": [
            "Hello World\n"
          ]
        }
      ],
      "source": [
        "def greet():\n",
        "     print(\"Hello World\")\n",
        "     return\n",
        "greet()"
      ]
    },
    {
      "cell_type": "markdown",
      "metadata": {
        "id": "IL04lOk0wjSh"
      },
      "source": [
        "Q32: Define a function add(a, b) that returns the sum of two numbers.\n",
        "\n"
      ]
    },
    {
      "cell_type": "code",
      "execution_count": 42,
      "metadata": {
        "id": "DJyjjgf7wjqv"
      },
      "outputs": [
        {
          "name": "stdout",
          "output_type": "stream",
          "text": [
            "5\n"
          ]
        }
      ],
      "source": [
        "def add(a,b):\n",
        "    sum=a+b\n",
        "    return sum\n",
        "print(add(2,3))"
      ]
    },
    {
      "cell_type": "markdown",
      "metadata": {
        "id": "EE-MON9HwlmE"
      },
      "source": [
        "Q33: Define a function multiply_list(numbers) that returns the product of all elements in a list."
      ]
    },
    {
      "cell_type": "code",
      "execution_count": 47,
      "metadata": {
        "id": "K2rj4VJ8wlzR"
      },
      "outputs": [
        {
          "name": "stdout",
          "output_type": "stream",
          "text": [
            "120\n"
          ]
        }
      ],
      "source": [
        "def maltyplay_list(l):\n",
        "    i = 1\n",
        "    result = 1\n",
        "    for i in l:\n",
        "        result *= i\n",
        "    return result\n",
        "my_list=[1,2,3,4,5]\n",
        "print(maltyplay_list(my_list))"
      ]
    },
    {
      "cell_type": "markdown",
      "metadata": {
        "id": "zcB1fiiUwnhT"
      },
      "source": [
        "Q34: Define a function is_even(num) that returns True if the number is even, otherwise False."
      ]
    },
    {
      "cell_type": "code",
      "execution_count": 48,
      "metadata": {
        "id": "DJl3uQcownsL"
      },
      "outputs": [],
      "source": [
        "def is_even(x):\n",
        "    if x % 2 ==0:\n",
        "        print(\"true\")\n",
        "    else:\n",
        "        print(\"false\")\n",
        "    return\n",
        "x=int(input(\"enter a number:\"))\n",
        "is_even(x)"
      ]
    },
    {
      "cell_type": "markdown",
      "metadata": {
        "id": "V3mQzSbbwqJS"
      },
      "source": [
        "Q35: Define a function count_vowels(text) that returns the number of vowels in a string"
      ]
    },
    {
      "cell_type": "code",
      "execution_count": 24,
      "metadata": {
        "id": "P6sFA_8fwqT6"
      },
      "outputs": [
        {
          "name": "stdout",
          "output_type": "stream",
          "text": [
            "2\n"
          ]
        }
      ],
      "source": [
        "def count_vowels(t):\n",
        "    l=\"aeuioAEUIO\"\n",
        "    count=0\n",
        "    for x in t:\n",
        "        if x in l:\n",
        "         count+=1\n",
        "    print(count)\n",
        "    return\n",
        "\n",
        "a=\"ali\"\n",
        "count_vowels(a)"
      ]
    },
    {
      "cell_type": "markdown",
      "metadata": {
        "id": "ENZVia04w3wp"
      },
      "source": [
        "Q36: Define a function find_max(numbers) that returns the maximum value in a list.\n",
        "\n"
      ]
    },
    {
      "cell_type": "code",
      "execution_count": 26,
      "metadata": {
        "id": "rysfocwmw47J"
      },
      "outputs": [
        {
          "name": "stdout",
          "output_type": "stream",
          "text": [
            "5\n"
          ]
        }
      ],
      "source": [
        "def find_max(numbers):\n",
        "    return max(numbers)\n",
        "l = [1,2,3,5,4]\n",
        "print(find_max(l))\n",
        "    "
      ]
    },
    {
      "cell_type": "markdown",
      "metadata": {
        "id": "PSBZ1mTGw7hK"
      },
      "source": [
        "new Q37: Define a function reverse_string(s) that returns the reverse of a string.\n",
        "\n"
      ]
    },
    {
      "cell_type": "code",
      "execution_count": 33,
      "metadata": {
        "id": "_YMKnM3sw8nz"
      },
      "outputs": [
        {
          "name": "stdout",
          "output_type": "stream",
          "text": [
            "ila\n"
          ]
        }
      ],
      "source": [
        "def reverse_string(s):\n",
        "    return s[::-1]\n",
        "a=\"ali\"\n",
        "print(reverse_string(a))"
      ]
    },
    {
      "cell_type": "markdown",
      "metadata": {
        "id": "GWBASFXgxAGr"
      },
      "source": [
        "#Lambda Function Questions:\n",
        "Q38: Use a lambda function to add two numbers."
      ]
    },
    {
      "cell_type": "code",
      "execution_count": 34,
      "metadata": {
        "id": "6lDPeycWxBbT"
      },
      "outputs": [
        {
          "name": "stdout",
          "output_type": "stream",
          "text": [
            "3\n"
          ]
        }
      ],
      "source": [
        "addition = lambda a,b:a+b\n",
        "print(addition(1,2))\n"
      ]
    },
    {
      "cell_type": "markdown",
      "metadata": {
        "id": "o_U5CrcwxF5M"
      },
      "source": [
        "Q39: Use a lambda function to find the square of a number."
      ]
    },
    {
      "cell_type": "code",
      "execution_count": 35,
      "metadata": {
        "id": "a0W3xLL_xHsE"
      },
      "outputs": [
        {
          "name": "stdout",
          "output_type": "stream",
          "text": [
            "400\n"
          ]
        }
      ],
      "source": [
        "square = lambda a:a**2\n",
        "print(square(20))"
      ]
    },
    {
      "cell_type": "markdown",
      "metadata": {
        "id": "ikkpzqhbxN9L"
      },
      "source": [
        "Q40: Use a lambda function to filter out even numbers from a list.\n",
        "\n"
      ]
    },
    {
      "cell_type": "code",
      "execution_count": 61,
      "metadata": {},
      "outputs": [
        {
          "name": "stdout",
          "output_type": "stream",
          "text": [
            "[2, 4, 6, 8, 10]\n"
          ]
        }
      ],
      "source": [
        "even_filter =list(filter(lambda d: d%2 == 0, numbers))\n",
        "numbers=[1,2,3,4,5,6,7,8,9,10]\n",
        "print(even_filter)"
      ]
    }
  ],
  "metadata": {
    "colab": {
      "provenance": []
    },
    "kernelspec": {
      "display_name": "Python 3",
      "name": "python3"
    },
    "language_info": {
      "codemirror_mode": {
        "name": "ipython",
        "version": 3
      },
      "file_extension": ".py",
      "mimetype": "text/x-python",
      "name": "python",
      "nbconvert_exporter": "python",
      "pygments_lexer": "ipython3",
      "version": "3.12.0"
    }
  },
  "nbformat": 4,
  "nbformat_minor": 0
}
