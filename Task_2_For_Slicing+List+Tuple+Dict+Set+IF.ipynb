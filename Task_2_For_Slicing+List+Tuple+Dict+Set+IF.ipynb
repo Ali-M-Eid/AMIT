{
  "cells": [
    {
      "cell_type": "markdown",
      "metadata": {
        "id": "wWOtHX7RyppB"
      },
      "source": [
        "#Slicing Examples (5):\n",
        "Example 1: Slice the first three elements from a list.\n",
        "\n",
        "numbers = [1, 2, 3, 4, 5]\n"
      ]
    },
    {
      "cell_type": "code",
      "execution_count": 3,
      "metadata": {
        "id": "vJ8fi9loyLfx"
      },
      "outputs": [
        {
          "data": {
            "text/plain": [
              "[1, 2, 3]"
            ]
          },
          "execution_count": 3,
          "metadata": {},
          "output_type": "execute_result"
        }
      ],
      "source": [
        "numbers = [1,2,3,4,5]\n",
        "numbers[:3]"
      ]
    },
    {
      "cell_type": "markdown",
      "metadata": {
        "id": "Gf0TPGfmyupH"
      },
      "source": [
        "Slice the last two elements from a list.\n",
        "\n",
        "fruits = [\"apple\", \"banana\", \"cherry\", \"date\"]"
      ]
    },
    {
      "cell_type": "code",
      "execution_count": 2,
      "metadata": {
        "id": "WV2szT-UyyZK"
      },
      "outputs": [
        {
          "data": {
            "text/plain": [
              "['cherry', 'date']"
            ]
          },
          "execution_count": 2,
          "metadata": {},
          "output_type": "execute_result"
        }
      ],
      "source": [
        "fruits = [\"apple\",\"banana\",\"cherry\",\"date\"]\n",
        "fruits[2:]"
      ]
    },
    {
      "cell_type": "markdown",
      "metadata": {
        "id": "Cra5qkxSyzQo"
      },
      "source": [
        "Example 3: Slice every other element from a string.\n",
        "\n",
        "text = \"abcdefg\""
      ]
    },
    {
      "cell_type": "code",
      "execution_count": 2,
      "metadata": {
        "id": "9xY6j0tmy3Kh"
      },
      "outputs": [
        {
          "name": "stdout",
          "output_type": "stream",
          "text": [
            "['b', 'd', 'f']\n",
            "['a', 'b', 'c', 'd', 'e', 'f', 'g']\n"
          ]
        }
      ],
      "source": [
        "text = \"abcdefg\"\n",
        "my_list = list(text)\n",
        "print(my_list[1::2])\n",
        "print(my_list)\n"
      ]
    },
    {
      "cell_type": "markdown",
      "metadata": {
        "id": "O_NlLmDVzSi1"
      },
      "source": [
        "Reverse a list using slicing.\n",
        "\n",
        "numbers = [10, 20, 30, 40, 50]\n"
      ]
    },
    {
      "cell_type": "code",
      "execution_count": 3,
      "metadata": {
        "id": "yRIBTH4ezWRS"
      },
      "outputs": [
        {
          "data": {
            "text/plain": [
              "[50, 40, 30, 20, 10]"
            ]
          },
          "execution_count": 3,
          "metadata": {},
          "output_type": "execute_result"
        }
      ],
      "source": [
        "numbers=[10,20,30,40,50]\n",
        "numbers[::-1]\n"
      ]
    },
    {
      "cell_type": "markdown",
      "metadata": {
        "id": "lgpJwmXEzadb"
      },
      "source": [
        "Example 5: Extract a slice from the middle of a string.\n",
        "\n",
        "word = \"HelloWorld\""
      ]
    },
    {
      "cell_type": "code",
      "execution_count": 15,
      "metadata": {
        "id": "5x6W8k5mzbm_"
      },
      "outputs": [
        {
          "data": {
            "text/plain": [
              "'oW'"
            ]
          },
          "execution_count": 15,
          "metadata": {},
          "output_type": "execute_result"
        }
      ],
      "source": [
        "word=\"HelloWorld\"\n",
        "word[4:6]"
      ]
    },
    {
      "cell_type": "markdown",
      "metadata": {
        "id": "TmzhOSTOzfI0"
      },
      "source": [
        "#List Examples (5):\n",
        "Example 1: Add \"hamster\" element to a list.\n",
        "\n",
        "animals = [\"cat\", \"dog\", \"rabbit\"]\n"
      ]
    },
    {
      "cell_type": "code",
      "execution_count": 17,
      "metadata": {
        "id": "o4P2KeopzmXi"
      },
      "outputs": [
        {
          "name": "stdout",
          "output_type": "stream",
          "text": [
            "['cat', 'dog', 'rabbit', 'hamster']\n"
          ]
        }
      ],
      "source": [
        "animals =[ \"cat\",\"dog\",\"rabbit\"]\n",
        "animals.append(\"hamster\")\n",
        "print(animals)"
      ]
    },
    {
      "cell_type": "markdown",
      "metadata": {
        "id": "tfUVGAhaznCp"
      },
      "source": [
        " Remove an element 3 from a list.\n",
        "\n",
        "numbers = [1, 2, 3, 4, 5]\n"
      ]
    },
    {
      "cell_type": "code",
      "execution_count": 27,
      "metadata": {
        "id": "tUKDJ1A0zwzy"
      },
      "outputs": [
        {
          "name": "stdout",
          "output_type": "stream",
          "text": [
            "[1, 2, 4, 5]\n"
          ]
        }
      ],
      "source": [
        "numbers=[1,2,3,4,5]\n",
        "numbers.remove(3)\n",
        "print(numbers)"
      ]
    },
    {
      "cell_type": "markdown",
      "metadata": {
        "id": "TGBakon6zzeo"
      },
      "source": [
        " Access the third element in a list.\n",
        "\n",
        "fruits = [\"apple\", \"banana\", \"cherry\", \"date\"]"
      ]
    },
    {
      "cell_type": "code",
      "execution_count": 28,
      "metadata": {
        "id": "l78BBLeez1Pp"
      },
      "outputs": [
        {
          "data": {
            "text/plain": [
              "'cherry'"
            ]
          },
          "execution_count": 28,
          "metadata": {},
          "output_type": "execute_result"
        }
      ],
      "source": [
        "fruits = [\"apple\", \"banana\", \"cherry\", \"date\"]\n",
        "fruits[2]"
      ]
    },
    {
      "cell_type": "markdown",
      "metadata": {
        "id": "e7tjpVsJz17Q"
      },
      "source": [
        " Combine two lists.\n",
        "\n",
        "list1 = [1, 2, 3]\n",
        "list2 = [4, 5, 6]"
      ]
    },
    {
      "cell_type": "code",
      "execution_count": 5,
      "metadata": {
        "id": "nOdC3tnsz6B5"
      },
      "outputs": [
        {
          "name": "stdout",
          "output_type": "stream",
          "text": [
            "[1, 2, 3, 4, 5, 6]\n"
          ]
        }
      ],
      "source": [
        "list1 = [1, 2, 3]\n",
        "list2 = [4, 5, 6]\n",
        "list1+=list2\n",
        "print(list1)\n"
      ]
    },
    {
      "cell_type": "markdown",
      "metadata": {
        "id": "nW6GCWAXz9AQ"
      },
      "source": [
        " Sort a list of numbers.\n",
        "\n",
        "numbers = [5, 2, 9, 1, 5, 6]"
      ]
    },
    {
      "cell_type": "code",
      "execution_count": 2,
      "metadata": {
        "id": "TwGvG135z_Py"
      },
      "outputs": [
        {
          "name": "stdout",
          "output_type": "stream",
          "text": [
            "[1, 2, 5, 5, 6, 9]\n"
          ]
        }
      ],
      "source": [
        "numbers = [5, 2, 9, 1, 5, 6]\n",
        "numbers.sort()\n",
        "print(numbers)"
      ]
    },
    {
      "cell_type": "markdown",
      "metadata": {
        "id": "nn9tw1Y60EoP"
      },
      "source": [
        "#Tuple Examples (5):\n",
        "Example 1: Create a tuple with three colors elements.\n"
      ]
    },
    {
      "cell_type": "code",
      "execution_count": 10,
      "metadata": {
        "id": "nPmQXMyM0JIj"
      },
      "outputs": [
        {
          "name": "stdout",
          "output_type": "stream",
          "text": [
            "<class 'tuple'> \n",
            " ('red', 'blue', 'black')\n"
          ]
        }
      ],
      "source": [
        "my_tuple = (\"red\",\"blue\",\"black\")\n",
        "print(type(my_tuple),\"\\n\",my_tuple)"
      ]
    },
    {
      "cell_type": "markdown",
      "metadata": {
        "id": "wuKFceT30KC0"
      },
      "source": [
        "Access the second element of a tuple.\n",
        "\n",
        "point = (10, 20, 30)"
      ]
    },
    {
      "cell_type": "code",
      "execution_count": 11,
      "metadata": {
        "id": "Ow7IGgt40NrB"
      },
      "outputs": [
        {
          "data": {
            "text/plain": [
              "20"
            ]
          },
          "execution_count": 11,
          "metadata": {},
          "output_type": "execute_result"
        }
      ],
      "source": [
        "point = (10, 20, 30)\n",
        "point[1]"
      ]
    },
    {
      "cell_type": "markdown",
      "metadata": {
        "id": "wMYWyrNX0Rfs"
      },
      "source": [
        "Example 3: Check if an banana exists in a tuple.\n",
        "\n",
        "fruits = (\"apple\", \"banana\", \"cherry\")"
      ]
    },
    {
      "cell_type": "code",
      "execution_count": 12,
      "metadata": {
        "id": "DQUIW3oO0Z9m"
      },
      "outputs": [
        {
          "name": "stdout",
          "output_type": "stream",
          "text": [
            "banana exists in a tuple\n"
          ]
        }
      ],
      "source": [
        "fruits = (\"apple\", \"banana\", \"cherry\")\n",
        "if \"banana\" in fruits:\n",
        "    print(\"banana exists in a tuple\")\n",
        "else:\n",
        "    print(\"banana doesnot exist in a tuple \")"
      ]
    },
    {
      "cell_type": "markdown",
      "metadata": {
        "id": "lHpTfVzb0c9W"
      },
      "source": [
        "Example 4: Count occurrences of an element in a tuple.\n",
        "\n",
        "numbers = (1, 2, 3, 2, 2, 4)"
      ]
    },
    {
      "cell_type": "code",
      "execution_count": 6,
      "metadata": {
        "id": "Qb0UDTdW0exB"
      },
      "outputs": [
        {
          "name": "stdout",
          "output_type": "stream",
          "text": [
            "3\n"
          ]
        }
      ],
      "source": [
        "numbers = (1, 2, 3, 2, 2, 4)\n",
        "print(numbers.count(2))"
      ]
    },
    {
      "cell_type": "markdown",
      "metadata": {
        "id": "XQNjXTF20hjp"
      },
      "source": [
        "#Set Examples (5):\n",
        "Example 1: Create a set and add an element.\n",
        "\n",
        "\n",
        "\n",
        "my_set = {1, 2, 3}"
      ]
    },
    {
      "cell_type": "code",
      "execution_count": 32,
      "metadata": {
        "id": "2I9zg1BB0jLe"
      },
      "outputs": [
        {
          "name": "stdout",
          "output_type": "stream",
          "text": [
            "{1, 2, 3, 4}\n",
            "<class 'set'>\n"
          ]
        }
      ],
      "source": [
        "my_set = {1,2,3}\n",
        "my_set=list(my_set)\n",
        "#print(f\"{my_set}\\n{type(my_set)}\")\n",
        "my_set.append(4)\n",
        "my_set = set(my_set)\n",
        "print(f\"{my_set}\\n{type(my_set)}\")\n"
      ]
    },
    {
      "cell_type": "markdown",
      "metadata": {
        "id": "JE4-uMa80jvd"
      },
      "source": [
        "Example 2: Remove an element 2 from a set.\n",
        "\n",
        "my_set = {1, 2, 3, 4}"
      ]
    },
    {
      "cell_type": "code",
      "execution_count": 33,
      "metadata": {
        "id": "Ij5EvwXR0uCP"
      },
      "outputs": [
        {
          "name": "stdout",
          "output_type": "stream",
          "text": [
            "{1, 3, 4}\n",
            "<class 'set'>\n"
          ]
        }
      ],
      "source": [
        "my_set=list(my_set)\n",
        "my_set.remove(2)\n",
        "my_set = set(my_set)\n",
        "print(f\"{my_set}\\n{type(my_set)}\")\n"
      ]
    },
    {
      "cell_type": "markdown",
      "metadata": {
        "id": "PhMgpurn0uyO"
      },
      "source": [
        "Example 3: Check if an element apple is in a set.\n",
        "\n",
        "my_set = {\"apple\", \"banana\", \"cherry\"}\n"
      ]
    },
    {
      "cell_type": "code",
      "execution_count": 48,
      "metadata": {
        "id": "jB5xyjS31YjY"
      },
      "outputs": [
        {
          "name": "stdout",
          "output_type": "stream",
          "text": [
            "True\n"
          ]
        }
      ],
      "source": [
        "my_set = {\"apple\", \"banana\", \"cherry\"}\n",
        "print(\"apple\" in my_set)"
      ]
    },
    {
      "cell_type": "markdown",
      "metadata": {
        "id": "MzuNt4Ib1bkt"
      },
      "source": [
        "Find the union of two sets.\n",
        "\n",
        "set1 = {1, 2, 3}\n",
        "set2 = {3, 4, 5}"
      ]
    },
    {
      "cell_type": "code",
      "execution_count": 51,
      "metadata": {
        "id": "lqRtfll61dEv"
      },
      "outputs": [
        {
          "name": "stdout",
          "output_type": "stream",
          "text": [
            "{1, 2, 3, 4, 5}\n"
          ]
        }
      ],
      "source": [
        "set1 = {1, 2, 3}\n",
        "set2 = {3, 4, 5}\n",
        "union_set = set1|set2\n",
        "print(union_set)"
      ]
    },
    {
      "cell_type": "markdown",
      "metadata": {
        "id": "bMk1BygK1faN"
      },
      "source": [
        " Find the intersection of two sets.\n",
        "\n",
        "\n",
        "set1 = {1, 2, 3}\n",
        "set2 = {3, 4, 5}"
      ]
    },
    {
      "cell_type": "code",
      "execution_count": 52,
      "metadata": {
        "id": "z6cUnGvM1iJL"
      },
      "outputs": [
        {
          "name": "stdout",
          "output_type": "stream",
          "text": [
            "{3}\n"
          ]
        }
      ],
      "source": [
        "set1 = {1, 2, 3}\n",
        "set2 = {3, 4, 5}\n",
        "set3 = set1&set2\n",
        "print(set3)\n"
      ]
    },
    {
      "cell_type": "markdown",
      "metadata": {
        "id": "Xh1DrOC11lr1"
      },
      "source": [
        "#Dictionary Examples (3):\n",
        "Example 1: Create a dictionary and access a value by key.\n",
        "EX of the keys \"name\" \"age\" \"grade\""
      ]
    },
    {
      "cell_type": "code",
      "execution_count": 60,
      "metadata": {
        "id": "pVWsfokv1wFo"
      },
      "outputs": [
        {
          "name": "stdout",
          "output_type": "stream",
          "text": [
            "ALi\n",
            "19\n",
            "2\n"
          ]
        }
      ],
      "source": [
        "my_dict={\"name\":\"ALi\",\"age\":19,\"grade\":2}\n",
        "print(f\"{my_dict[\"name\"]}\\n{my_dict[\"age\"]}\\n{my_dict[\"grade\"]}\")\n",
        "\n"
      ]
    },
    {
      "cell_type": "markdown",
      "metadata": {
        "id": "5kq-9gSr15Fr"
      },
      "source": [
        "Remove a key-value pair from a dictionary."
      ]
    },
    {
      "cell_type": "code",
      "execution_count": 64,
      "metadata": {
        "id": "YObxntTp15x1"
      },
      "outputs": [
        {
          "name": "stdout",
          "output_type": "stream",
          "text": [
            "{'name': 'ALi', 'age': 19}\n"
          ]
        }
      ],
      "source": [
        "my_dict={\"name\":\"ALi\",\"age\":19,\"grade\":2}\n",
        "my_dict.pop(\"grade\")\n",
        "print(my_dict)"
      ]
    },
    {
      "cell_type": "markdown",
      "metadata": {
        "id": "qLOy7IQN18Fm"
      },
      "source": [
        "Check if a key exists in a dictionary."
      ]
    },
    {
      "cell_type": "code",
      "execution_count": 65,
      "metadata": {
        "id": "f0Fc2cxw18ph"
      },
      "outputs": [
        {
          "name": "stdout",
          "output_type": "stream",
          "text": [
            "True\n"
          ]
        }
      ],
      "source": [
        "my_dict={\"name\":\"ALi\",\"age\":19,\"grade\":2}\n",
        "print(\"name\" in my_dict)\n"
      ]
    },
    {
      "cell_type": "markdown",
      "metadata": {
        "id": "9TXXKEa12A99"
      },
      "source": [
        "#If Condition Examples (5):\n",
        "Example 1: Check if a number is positive."
      ]
    },
    {
      "cell_type": "code",
      "execution_count": 1,
      "metadata": {
        "id": "N1h7d1vU2DA2"
      },
      "outputs": [],
      "source": [
        "number= float(input(\"please enter your number:\"))\n",
        "if number > 0:\n",
        "    print(\"your number is positive\")\n",
        "else:\n",
        "    print(\"its not positive\")\n"
      ]
    },
    {
      "cell_type": "markdown",
      "metadata": {
        "id": "6RFyj0y52FMz"
      },
      "source": [
        "Example 2: Check if a number is even or odd."
      ]
    },
    {
      "cell_type": "code",
      "execution_count": 1,
      "metadata": {
        "id": "vGiwgMtO2Fk1"
      },
      "outputs": [],
      "source": [
        "number= float(input(\"please enter your number:\"))\n",
        "if number % 2 == 0:\n",
        "    print(f\"{number} is even\")\n",
        "else:\n",
        "    print(f\"{number} is odd\") "
      ]
    },
    {
      "cell_type": "markdown",
      "metadata": {
        "id": "zQY7kwej2H9p"
      },
      "source": [
        "Example 3: Check if a number is zero, positive, or negative."
      ]
    },
    {
      "cell_type": "code",
      "execution_count": null,
      "metadata": {
        "id": "0QH1Rxvy2Ic_"
      },
      "outputs": [],
      "source": [
        "number= float(input(\"please enter your number:\"))\n",
        "if number > 0:\n",
        "    print(\"your number is positive\")\n",
        "elif number < 0 :\n",
        "    print(\"your number is negative\")\n",
        "else:\n",
        "    print(\"zero is not a positive or a negative, zero is zero\")\n",
        "\n"
      ]
    },
    {
      "cell_type": "markdown",
      "metadata": {
        "id": "dpgQPZIk2KSb"
      },
      "source": [
        "Example 4: Check if a character is a vowel.\n",
        "\n"
      ]
    },
    {
      "cell_type": "code",
      "execution_count": null,
      "metadata": {
        "id": "B6iWo6iE2Kjg"
      },
      "outputs": [],
      "source": [
        "char=str(input(\"add charecter to check:\"))\n",
        "vowel=\"aeouiAOIUE\"\n",
        "print(char)\n",
        "if char in vowel:\n",
        "    print(\"vowel\")\n",
        "else:\n",
        "    print(\"its not\")\n"
      ]
    },
    {
      "cell_type": "markdown",
      "metadata": {
        "id": "W0bMmJe42MvG"
      },
      "source": [
        "Example 5: Check if a number is within a range.\n",
        "\n"
      ]
    },
    {
      "cell_type": "code",
      "execution_count": null,
      "metadata": {
        "id": "mvRSZ0rB2NLU"
      },
      "outputs": [],
      "source": [
        "h_range = 10\n",
        "l_range = 5\n",
        "number = int(input(\"enter a number u want to check:\"))\n",
        "if h_range >= number >= l_range :\n",
        "    print(f\"{number} in range\")\n",
        "else:\n",
        "    print(f\"{number} not in range\")\n"
      ]
    },
    {
      "cell_type": "markdown",
      "metadata": {},
      "source": [
        "#Try To Solve\n",
        "Write code take two numerical inputs for addition, subtraction,multiplication, and division. Your cooperation in furnishing these values will enable us to perform the specified mathematical operations accurately."
      ]
    },
    {
      "cell_type": "code",
      "execution_count": null,
      "metadata": {},
      "outputs": [],
      "source": [
        "print(\"Welcome to our calculator\")\n",
        "num1 = float(input(\"enter ur first number:\"))\n",
        "num2 = float(input(\"enter ur second number:\"))\n",
        "operation = input(\"Choose the mathematical operation you want(+,-,*,/):\")\n",
        "if operation == \"+\":\n",
        "    print(num1+num2)\n",
        "elif operation == \"-\":\n",
        "    print(num1-num2)\n",
        "elif operation == \"*\":\n",
        "    print(num1*num2)\n",
        "elif operation == \"/\":\n",
        "    if num2 == 0:\n",
        "        print(\"Error: U cant division by zero\")\n",
        "    else:\n",
        "        print(num1/num2)\n",
        "else:\n",
        "    print(\"invalid input\")"
      ]
    },
    {
      "cell_type": "markdown",
      "metadata": {},
      "source": [
        "Try To Solve\n",
        "Write Python code snippet removes a user-inputted item from a list and outputs the modified list?\n",
        "Input_list: [\"amit\",\"learning\",\"python\",\"machine learning\",\"data science\",\"deep learning\"]\n"
      ]
    },
    {
      "cell_type": "code",
      "execution_count": null,
      "metadata": {},
      "outputs": [],
      "source": [
        "Input_list=[\"amit\",\"learning\",\"python\",\"machine learning\",\"data science\",\"deep learning\"]\n",
        "print(Input_list)\n",
        "deleted_element=input(\"enter the element to be deleted from this list:\")\n",
        "Input_list.remove(deleted_element)\n",
        "print(Input_list)"
      ]
    }
  ],
  "metadata": {
    "colab": {
      "provenance": []
    },
    "kernelspec": {
      "display_name": "Python 3",
      "name": "python3"
    },
    "language_info": {
      "codemirror_mode": {
        "name": "ipython",
        "version": 3
      },
      "file_extension": ".py",
      "mimetype": "text/x-python",
      "name": "python",
      "nbconvert_exporter": "python",
      "pygments_lexer": "ipython3",
      "version": "3.12.0"
    }
  },
  "nbformat": 4,
  "nbformat_minor": 0
}
